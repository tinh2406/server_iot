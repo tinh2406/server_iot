{
 "cells": [
  {
   "cell_type": "code",
   "execution_count": 1,
   "metadata": {},
   "outputs": [
    {
     "name": "stderr",
     "output_type": "stream",
     "text": [
      "/var/folders/_1/0bglz1893_39b3r9vqplvnjc0000gn/T/ipykernel_65791/4080736814.py:1: DeprecationWarning: \n",
      "Pyarrow will become a required dependency of pandas in the next major release of pandas (pandas 3.0),\n",
      "(to allow more performant data types, such as the Arrow string type, and better interoperability with other libraries)\n",
      "but was not found to be installed on your system.\n",
      "If this would cause problems for you,\n",
      "please provide us feedback at https://github.com/pandas-dev/pandas/issues/54466\n",
      "        \n",
      "  import pandas as pd\n"
     ]
    }
   ],
   "source": [
    "import pandas as pd"
   ]
  },
  {
   "cell_type": "code",
   "execution_count": 3,
   "metadata": {},
   "outputs": [],
   "source": [
    "train = pd.read_csv('archive/mitbih_train.csv', header=None)\n",
    "test = pd.read_csv('archive/mitbih_test.csv', header=None)\n",
    "\n",
    "X_train, y_train = train.iloc[:, :187].values, train.iloc[:, 187].values\n",
    "X_test, y_test = test.iloc[:, :187].values, test.iloc[:, 187].values\n",
    "\n",
    "# Reshape the input data to (samples, 187, 1)\n",
    "X_train = X_train.reshape((X_train.shape[0], X_train.shape[1], 1))\n",
    "X_test = X_test.reshape((X_test.shape[0], X_test.shape[1], 1))"
   ]
  },
  {
   "cell_type": "code",
   "execution_count": 53,
   "metadata": {},
   "outputs": [
    {
     "data": {
      "text/plain": [
       "[<matplotlib.lines.Line2D at 0x12ec17c50>]"
      ]
     },
     "execution_count": 53,
     "metadata": {},
     "output_type": "execute_result"
    },
    {
     "data": {
      "image/png": "[encoded data removed]",
      "text/plain": [
       "<Figure size 640x480 with 1 Axes>"
      ]
     },
     "metadata": {},
     "output_type": "display_data"
    }
   ],
   "source": [
    "import matplotlib.pyplot as plt\n",
    "\n",
    "plt.plot(X_train[0])"
   ]
  },
  {
   "cell_type": "code",
   "execution_count": 54,
   "metadata": {},
   "outputs": [
    {
     "name": "stderr",
     "output_type": "stream",
     "text": [
      "/opt/homebrew/lib/python3.11/site-packages/keras/src/saving/saving_lib.py:396: UserWarning: Skipping variable loading for optimizer 'rmsprop', because it has 10 variables whereas the saved optimizer has 18 variables. \n",
      "  trackable.load_own_variables(weights_store.get(inner_path))\n"
     ]
    }
   ],
   "source": [
    "from tensorflow import keras\n",
    "load_model = keras.models.load_model(f'/my_model.keras')"
   ]
  },
  {
   "cell_type": "code",
   "execution_count": 55,
   "metadata": {},
   "outputs": [
    {
     "name": "stdout",
     "output_type": "stream",
     "text": [
      "\u001b[1m685/685\u001b[0m \u001b[32m━━━━━━━━━━━━━━━━━━━━\u001b[0m\u001b[37m\u001b[0m \u001b[1m1s\u001b[0m 2ms/step - accuracy: 0.9582 - loss: 0.1627\n"
     ]
    }
   ],
   "source": [
    "test_loss, test_accuracy = load_model.evaluate(X_test, y_test)"
   ]
  },
  {
   "cell_type": "code",
   "execution_count": 59,
   "metadata": {},
   "outputs": [],
   "source": [
    "arrays = [i[0] for i in X_test[0].tolist()]"
   ]
  },
  {
   "cell_type": "code",
   "execution_count": 60,
   "metadata": {},
   "outputs": [
    {
     "data": {
      "text/plain": [
       "[1.0,\n",
       " 0.7582644820213318,\n",
       " 0.11157024651765823,\n",
       " 0.0,\n",
       " 0.08057851344347,\n",
       " 0.07851240038871765,\n",
       " 0.06611569970846176,\n",
       " 0.04958677664399147,\n",
       " 0.047520659863948815,\n",
       " 0.03512396663427353,\n",
       " 0.03099173493683338,\n",
       " 0.02892562001943588,\n",
       " 0.03512396663427353,\n",
       " 0.026859503239393238,\n",
       " 0.039256200194358826,\n",
       " 0.03512396663427353,\n",
       " 0.043388430029153824,\n",
       " 0.047520659863948815,\n",
       " 0.053719006478786475,\n",
       " 0.053719006478786475,\n",
       " 0.07024793326854706,\n",
       " 0.0723140463232994,\n",
       " 0.0847107470035553,\n",
       " 0.09710744023323059,\n",
       " 0.12190082669258116,\n",
       " 0.13223139941692352,\n",
       " 0.1694214940071106,\n",
       " 0.1962809860706329,\n",
       " 0.21487602591514587,\n",
       " 0.23553718626499176,\n",
       " 0.2541322410106659,\n",
       " 0.26446279883384705,\n",
       " 0.28512397408485407,\n",
       " 0.27272728085517883,\n",
       " 0.2665289342403412,\n",
       " 0.23966942727565765,\n",
       " 0.21487602591514587,\n",
       " 0.17355372011661527,\n",
       " 0.1570248007774353,\n",
       " 0.12396693974733353,\n",
       " 0.12190082669258116,\n",
       " 0.10743801295757292,\n",
       " 0.10537189990282057,\n",
       " 0.09710744023323059,\n",
       " 0.10537189990282057,\n",
       " 0.09917355328798294,\n",
       " 0.10537189990282057,\n",
       " 0.09917355328798294,\n",
       " 0.10743801295757292,\n",
       " 0.10743801295757292,\n",
       " 0.11570248007774352,\n",
       " 0.11157024651765823,\n",
       " 0.12190082669258116,\n",
       " 0.11157024651765823,\n",
       " 0.11983471363782883,\n",
       " 0.11157024651765823,\n",
       " 0.11363636702299118,\n",
       " 0.11157024651765823,\n",
       " 0.12190082669258116,\n",
       " 0.10537189990282057,\n",
       " 0.10743801295757292,\n",
       " 0.10123966634273528,\n",
       " 0.10123966634273528,\n",
       " 0.08677686005830765,\n",
       " 0.09297520667314528,\n",
       " 0.0847107470035553,\n",
       " 0.08264462649822235,\n",
       " 0.07851240038871765,\n",
       " 0.07851240038871765,\n",
       " 0.07024793326854706,\n",
       " 0.0764462798833847,\n",
       " 0.06818182021379471,\n",
       " 0.07851240038871765,\n",
       " 0.07024793326854706,\n",
       " 0.06818182021379471,\n",
       " 0.06818182021379471,\n",
       " 0.07438016682863235,\n",
       " 0.0723140463232994,\n",
       " 0.09090909361839294,\n",
       " 0.10123966634273528,\n",
       " 0.10743801295757292,\n",
       " 0.10537189990282057,\n",
       " 0.12190082669258116,\n",
       " 0.11570248007774352,\n",
       " 0.10950413346290588,\n",
       " 0.09710744023323059,\n",
       " 0.10330578684806824,\n",
       " 0.09710744023323059,\n",
       " 0.08677686005830765,\n",
       " 0.0723140463232994,\n",
       " 0.07024793326854706,\n",
       " 0.053719006478786475,\n",
       " 0.057851240038871765,\n",
       " 0.04958677664399147,\n",
       " 0.057851240038871765,\n",
       " 0.05165289342403412,\n",
       " 0.05578512325882912,\n",
       " 0.053719006478786475,\n",
       " 0.053719006478786475,\n",
       " 0.0,\n",
       " 0.012396694160997868,\n",
       " 0.18801653385162356,\n",
       " 0.6818181872367859,\n",
       " 0.9752066135406494,\n",
       " 0.6157024502754211,\n",
       " 0.041322313249111176,\n",
       " 0.012396694160997868,\n",
       " 0.08677686005830765,\n",
       " 0.06611569970846176,\n",
       " 0.06611569970846176,\n",
       " 0.05165289342403412,\n",
       " 0.039256200194358826,\n",
       " 0.043388430029153824,\n",
       " 0.03305784985423088,\n",
       " 0.041322313249111176,\n",
       " 0.03512396663427353,\n",
       " 0.04545454680919647,\n",
       " 0.041322313249111176,\n",
       " 0.04545454680919647,\n",
       " 0.043388430029153824,\n",
       " 0.04958677664399147,\n",
       " 0.047520659863948815,\n",
       " 0.06404958665370941,\n",
       " 0.06818182021379471,\n",
       " 0.0,\n",
       " 0.0,\n",
       " 0.0,\n",
       " 0.0,\n",
       " 0.0,\n",
       " 0.0,\n",
       " 0.0,\n",
       " 0.0,\n",
       " 0.0,\n",
       " 0.0,\n",
       " 0.0,\n",
       " 0.0,\n",
       " 0.0,\n",
       " 0.0,\n",
       " 0.0,\n",
       " 0.0,\n",
       " 0.0,\n",
       " 0.0,\n",
       " 0.0,\n",
       " 0.0,\n",
       " 0.0,\n",
       " 0.0,\n",
       " 0.0,\n",
       " 0.0,\n",
       " 0.0,\n",
       " 0.0,\n",
       " 0.0,\n",
       " 0.0,\n",
       " 0.0,\n",
       " 0.0,\n",
       " 0.0,\n",
       " 0.0,\n",
       " 0.0,\n",
       " 0.0,\n",
       " 0.0,\n",
       " 0.0,\n",
       " 0.0,\n",
       " 0.0,\n",
       " 0.0,\n",
       " 0.0,\n",
       " 0.0,\n",
       " 0.0,\n",
       " 0.0,\n",
       " 0.0,\n",
       " 0.0,\n",
       " 0.0,\n",
       " 0.0,\n",
       " 0.0,\n",
       " 0.0,\n",
       " 0.0,\n",
       " 0.0,\n",
       " 0.0,\n",
       " 0.0,\n",
       " 0.0,\n",
       " 0.0,\n",
       " 0.0,\n",
       " 0.0,\n",
       " 0.0,\n",
       " 0.0,\n",
       " 0.0,\n",
       " 0.0,\n",
       " 0.0,\n",
       " 0.0]"
      ]
     },
     "execution_count": 60,
     "metadata": {},
     "output_type": "execute_result"
    }
   ],
   "source": [
    "arrays"
   ]
  },
  {
   "cell_type": "code",
   "execution_count": 63,
   "metadata": {},
   "outputs": [
    {
     "name": "stdout",
     "output_type": "stream",
     "text": [
      "\u001b[1m1/1\u001b[0m \u001b[32m━━━━━━━━━━━━━━━━━━━━\u001b[0m\u001b[37m\u001b[0m \u001b[1m0s\u001b[0m 13ms/step\n",
      "Predicted label: 0\n"
     ]
    }
   ],
   "source": [
    "import numpy as np\n",
    "x = np.array(arrays).reshape(1, 187, 1)\n",
    "label = load_model.predict(x)\n",
    "print(\"Predicted label:\", np.argmax(label))"
   ]
  },
  {
   "cell_type": "markdown",
   "metadata": {},
   "source": [
    "['N': 0, 'S': 1, 'V': 2, 'F': 3, 'Q': 4]"
   ]
  },
  {
   "cell_type": "markdown",
   "metadata": {},
   "source": [
    "\t1.\tN (Normal beat) - Nhịp tim bình thường.\n",
    "\t2.\tS (Supraventricular ectopic beat) - Nhịp tim bất thường do ngoại tâm thu từ phía trên thất (trên thất).\n",
    "\t3.\tV (Ventricular ectopic beat) - Nhịp tim bất thường do ngoại tâm thu từ thất (nhịp thất).\n",
    "\t4.\tF (Fusion beat) - Nhịp hợp nhất, khi nhịp xoang và nhịp bất thường xảy ra đồng thời, gây ra một phức hợp sóng “hợp nhất”.\n",
    "\t5.\tQ (Unclassifiable beat) - Nhịp không thể phân loại, thường là các dạng nhịp không bình thường hoặc nhiễu mà hệ thống không phân loại được."
   ]
  }
 ],
 "metadata": {
  "kernelspec": {
   "display_name": "Python 3",
   "language": "python",
   "name": "python3"
  },
  "language_info": {
   "codemirror_mode": {
    "name": "ipython",
    "version": 3
   },
   "file_extension": ".py",
   "mimetype": "text/x-python",
   "name": "python",
   "nbconvert_exporter": "python",
   "pygments_lexer": "ipython3",
   "version": "3.11.9"
  }
 },
 "nbformat": 4,
 "nbformat_minor": 2
}
